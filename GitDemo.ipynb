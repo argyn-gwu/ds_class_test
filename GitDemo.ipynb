{
  "nbformat": 4,
  "nbformat_minor": 0,
  "metadata": {
    "colab": {
      "provenance": []
    },
    "kernelspec": {
      "name": "python3",
      "display_name": "Python 3"
    },
    "language_info": {
      "name": "python"
    }
  },
  "cells": [
    {
      "cell_type": "code",
      "execution_count": null,
      "metadata": {
        "colab": {
          "base_uri": "https://localhost:8080/"
        },
        "id": "j45JXRfY5IkM",
        "outputId": "fff4dac4-81fa-44ef-bdb9-0d732bbc0ab4"
      },
      "outputs": [
        {
          "output_type": "stream",
          "name": "stdout",
          "text": [
            "hello world\n"
          ]
        }
      ],
      "source": [
        "what = 'world'\n",
        "print(f'hello {what}!')"
      ]
    },
    {
      "cell_type": "code",
      "source": [
        "print('1st feature')"
      ],
      "metadata": {
        "colab": {
          "base_uri": "https://localhost:8080/"
        },
        "id": "mA3cSQaLnxjP",
        "outputId": "ccd59145-e15f-4ea7-a942-2e581e81afa6"
      },
      "execution_count": 2,
      "outputs": [
        {
          "output_type": "stream",
          "name": "stdout",
          "text": [
            "1st feature\n"
          ]
        }
      ]
    }
  ]
}