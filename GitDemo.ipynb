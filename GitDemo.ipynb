{
  "nbformat": 4,
  "nbformat_minor": 0,
  "metadata": {
    "colab": {
      "provenance": []
    },
    "kernelspec": {
      "name": "python3",
      "display_name": "Python 3"
    },
    "language_info": {
      "name": "python"
    }
  },
  "cells": [
    {
      "cell_type": "code",
      "execution_count": null,
      "metadata": {
        "colab": {
          "base_uri": "https://localhost:8080/"
        },
        "id": "j45JXRfY5IkM",
        "outputId": "fff4dac4-81fa-44ef-bdb9-0d732bbc0ab4"
      },
      "outputs": [
        {
          "output_type": "stream",
          "name": "stdout",
          "text": [
            "hello world\n"
          ]
        }
      ],
      "source": [
        "what = 'world'\n",
        "print(f'hello {what}!')"
      ]
    },
    {
      "cell_type": "code",
      "source": [
        "print('1st')"
      ],
      "metadata": {
        "colab": {
          "base_uri": "https://localhost:8080/"
        },
        "id": "mA3cSQaLnxjP",
        "outputId": "86cd76f9-68d3-430c-fba9-71e12526e4f0"
      },
      "execution_count": 1,
      "outputs": [
        {
          "output_type": "stream",
          "name": "stdout",
          "text": [
            "1st\n"
          ]
        }
      ]
    }
  ]
}